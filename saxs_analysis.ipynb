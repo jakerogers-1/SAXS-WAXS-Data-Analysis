{
 "cells": [
  {
   "cell_type": "code",
   "execution_count": 1,
   "metadata": {},
   "outputs": [],
   "source": [
    "## Importing all the important stuff\n",
    "from dat_to_tif import dat_to_tif\n",
    "import numpy as np\n",
    "import os\n",
    "from dat_from_file import dat_from_file\n",
    "from PIL import Image\n",
    "import numpy as np\n",
    "import matplotlib.pyplot as plt\n",
    "import matplotlib.image as mpimg\n",
    "import matplotlib\n",
    "from scipy.fft import fft, ifft, ifftshift, fftshift\n",
    "\n",
    "\n",
    "def read_tif(fname):\n",
    "    im = Image.open(fname)\n",
    "    print('IN: {} [Image size: {}, Image mode: {}]'.format(fname, im.size, im.mode))\n",
    "    return im\n"
   ]
  },
  {
   "cell_type": "code",
   "execution_count": 2,
   "metadata": {},
   "outputs": [
    {
     "name": "stdout",
     "output_type": "stream",
     "text": [
      "[0, 1, 2, 3, 4, 5, 6, 7, 8]\n"
     ]
    }
   ],
   "source": [
    "## Raw dat input directory\n",
    "# Change this depending on the run\n",
    "spool_directory = '/home/paul/Documents/SAXS-WAXS_test_data/raw/Nigel_Naked_Test2_Fine_run2/spool/SpoolDirectory'\n",
    "## Tif output directory\n",
    "# Change this depending on the run\n",
    "tif_directory = '/home/paul/Documents/SAXS-WAXS_test_data/fout'\n",
    "spool_dirs = 8 # input number of spool directories\n",
    "spool_dirs_i = [0, 1, 2, 3, 4, 5, 6, 7, 8] #  Need to automate this line\n",
    "print(spool_dirs_i)"
   ]
  },
  {
   "cell_type": "code",
   "execution_count": 4,
   "metadata": {},
   "outputs": [
    {
     "name": "stdout",
     "output_type": "stream",
     "text": [
      "index=1 dat=SpoolData0.dat files = range(256, 259)\n",
      "index=2 dat=SpoolData1.dat files = range(259, 262)\n",
      "index=3 dat=SpoolData2.dat files = range(262, 265)\n",
      "index=4 dat=SpoolData3.dat files = range(265, 268)\n",
      "index=5 dat=SpoolData4.dat files = range(268, 271)\n",
      "index=6 dat=SpoolData5.dat files = range(271, 274)\n",
      "index=7 dat=SpoolData6.dat files = range(274, 277)\n",
      "index=8 dat=SpoolData7.dat files = range(277, 280)\n",
      "index=9 dat=SpoolData8.dat files = range(280, 283)\n",
      "index=10 dat=SpoolData9.dat files = range(283, 286)\n",
      "index=1 dat=SpoolData10.dat files = range(285, 288)\n",
      "index=2 dat=SpoolData11.dat files = range(288, 291)\n",
      "index=3 dat=SpoolData12.dat files = range(291, 294)\n",
      "index=4 dat=SpoolData13.dat files = range(294, 297)\n",
      "index=5 dat=SpoolData14.dat files = range(297, 300)\n",
      "index=6 dat=SpoolData15.dat files = range(300, 303)\n",
      "index=7 dat=SpoolData16.dat files = range(303, 306)\n",
      "index=8 dat=SpoolData17.dat files = range(306, 309)\n",
      "index=9 dat=SpoolData18.dat files = range(309, 312)\n",
      "index=10 dat=SpoolData19.dat files = range(312, 315)\n",
      "index=1 dat=SpoolData20.dat files = range(314, 317)\n",
      "index=2 dat=SpoolData21.dat files = range(317, 320)\n",
      "index=3 dat=SpoolData22.dat files = range(320, 323)\n",
      "index=4 dat=SpoolData23.dat files = range(323, 326)\n",
      "index=5 dat=SpoolData24.dat files = range(326, 329)\n",
      "index=6 dat=SpoolData25.dat files = range(329, 332)\n",
      "index=7 dat=SpoolData26.dat files = range(332, 335)\n",
      "index=8 dat=SpoolData27.dat files = range(335, 338)\n",
      "index=9 dat=SpoolData28.dat files = range(338, 341)\n",
      "index=10 dat=SpoolData29.dat files = range(341, 344)\n",
      "index=1 dat=SpoolData30.dat files = range(343, 346)\n",
      "index=2 dat=SpoolData31.dat files = range(346, 349)\n",
      "index=3 dat=SpoolData32.dat files = range(349, 352)\n",
      "index=4 dat=SpoolData33.dat files = range(352, 355)\n",
      "index=5 dat=SpoolData34.dat files = range(355, 358)\n",
      "index=6 dat=SpoolData35.dat files = range(358, 361)\n",
      "index=7 dat=SpoolData36.dat files = range(361, 364)\n",
      "index=8 dat=SpoolData37.dat files = range(364, 367)\n",
      "index=9 dat=SpoolData38.dat files = range(367, 370)\n",
      "index=10 dat=SpoolData39.dat files = range(370, 373)\n",
      "index=1 dat=SpoolData40.dat files = range(372, 375)\n",
      "index=2 dat=SpoolData41.dat files = range(375, 378)\n",
      "index=3 dat=SpoolData42.dat files = range(378, 381)\n",
      "index=4 dat=SpoolData43.dat files = range(381, 384)\n",
      "index=5 dat=SpoolData44.dat files = range(384, 387)\n",
      "index=6 dat=SpoolData45.dat files = range(387, 390)\n",
      "index=7 dat=SpoolData46.dat files = range(390, 393)\n",
      "index=8 dat=SpoolData47.dat files = range(393, 396)\n",
      "index=9 dat=SpoolData48.dat files = range(396, 399)\n",
      "index=10 dat=SpoolData49.dat files = range(399, 402)\n",
      "index=1 dat=SpoolData50.dat files = range(401, 404)\n",
      "index=2 dat=SpoolData51.dat files = range(404, 407)\n",
      "index=3 dat=SpoolData52.dat files = range(407, 410)\n",
      "index=4 dat=SpoolData53.dat files = range(410, 413)\n",
      "index=5 dat=SpoolData54.dat files = range(413, 416)\n",
      "index=6 dat=SpoolData55.dat files = range(416, 419)\n",
      "index=7 dat=SpoolData56.dat files = range(419, 422)\n",
      "index=8 dat=SpoolData57.dat files = range(422, 425)\n",
      "index=9 dat=SpoolData58.dat files = range(425, 428)\n",
      "index=10 dat=SpoolData59.dat files = range(428, 431)\n",
      "index=1 dat=SpoolData60.dat files = range(430, 433)\n",
      "index=2 dat=SpoolData61.dat files = range(433, 436)\n",
      "index=3 dat=SpoolData62.dat files = range(436, 439)\n",
      "index=4 dat=SpoolData63.dat files = range(439, 442)\n",
      "index=5 dat=SpoolData64.dat files = range(442, 445)\n",
      "index=6 dat=SpoolData65.dat files = range(445, 448)\n",
      "index=7 dat=SpoolData66.dat files = range(448, 451)\n",
      "index=8 dat=SpoolData67.dat files = range(451, 454)\n",
      "index=9 dat=SpoolData68.dat files = range(454, 457)\n",
      "index=10 dat=SpoolData69.dat files = range(457, 460)\n",
      "index=1 dat=SpoolData70.dat files = range(459, 462)\n",
      "index=2 dat=SpoolData71.dat files = range(462, 465)\n",
      "index=3 dat=SpoolData72.dat files = range(465, 468)\n",
      "index=4 dat=SpoolData73.dat files = range(468, 471)\n",
      "index=5 dat=SpoolData74.dat files = range(471, 474)\n",
      "index=6 dat=SpoolData75.dat files = range(474, 477)\n",
      "index=7 dat=SpoolData76.dat files = range(477, 480)\n",
      "index=8 dat=SpoolData77.dat files = range(480, 483)\n",
      "index=9 dat=SpoolData78.dat files = range(483, 486)\n",
      "index=10 dat=SpoolData79.dat files = range(486, 489)\n",
      "index=1 dat=SpoolData80.dat files = range(488, 491)\n",
      "index=2 dat=SpoolData81.dat files = range(491, 494)\n",
      "index=3 dat=SpoolData82.dat files = range(494, 497)\n",
      "index=4 dat=SpoolData83.dat files = range(497, 500)\n",
      "index=5 dat=SpoolData84.dat files = range(500, 503)\n",
      "index=6 dat=SpoolData85.dat files = range(503, 506)\n",
      "index=7 dat=SpoolData86.dat files = range(506, 509)\n",
      "index=8 dat=SpoolData87.dat files = range(509, 512)\n"
     ]
    }
   ],
   "source": [
    "## Loop to convert files to tif\n",
    "for dir_num in spool_dirs_i:\n",
    "    full_path = spool_directory + str(dir_num)\n",
    "    dat_from_file(full_path, tif_directory, dim=2048, tifsperdat=3, override=False)"
   ]
  },
  {
   "cell_type": "code",
   "execution_count": 3,
   "metadata": {},
   "outputs": [
    {
     "name": "stdout",
     "output_type": "stream",
     "text": [
      "['Number of lines:', '8268']\n"
     ]
    },
    {
     "data": {
      "image/png": "[encoded data removed]",
      "text/plain": [
       "<Figure size 640x480 with 1 Axes>"
      ]
     },
     "metadata": {},
     "output_type": "display_data"
    }
   ],
   "source": [
    "## Log file manipulation\n",
    "logdir = \"./livelogfile.log\" #input location of log file\n",
    "biglog = open(logdir, 'r')\n",
    "contents = biglog.readlines()\n",
    "type(contents)\n",
    "num_lines = len(contents)\n",
    "print([\"Number of lines:\", str(num_lines)])\n",
    "rows = list(range(0, num_lines-1))\n",
    "\n",
    "I0_column = 20 #Change depending on the column that I0 is in\n",
    "I0 = list(range(0, num_lines-1)) # work out the length (height) of the I0 array\n",
    "for row in rows: #loops through rows to populate the I0 array with values from the logfile\n",
    "    row_n = contents[row] \n",
    "    # The lines down here isolate the values from the column.\n",
    "    split_lines = row_n.split(\" \")\n",
    "    I0_list = str(split_lines[20])\n",
    "    I0_str = (I0_list.split('\"'))\n",
    "    I0[row] = I0_str[1] #populates the I0 array with values from the log\n",
    "plt.plot(rows, I0)\n",
    "plt.show()"
   ]
  },
  {
   "cell_type": "code",
   "execution_count": 4,
   "metadata": {},
   "outputs": [],
   "source": [
    "# Split the dark frames from the actualy data??\n",
    "\n",
    "## Set up a DF correction array to subract from the data below\n",
    "#for D in D_frames:\n",
    "#    read_tif()\n",
    "## For now (testing purposes) we can just make the dark field counts be 300\n",
    "DF_mean = 300"
   ]
  },
  {
   "cell_type": "code",
   "execution_count": 9,
   "metadata": {},
   "outputs": [
    {
     "name": "stdout",
     "output_type": "stream",
     "text": [
      "IN: /home/paul/Documents/SAXS-WAXS_test_data/fout/2.tif [Image size: (2048, 2048), Image mode: I]\n"
     ]
    }
   ],
   "source": [
    "# The initial reconstruction should be done here. We need to pick a test tiff to decide the location of the region of interest for the phase spectrum.\n",
    "test_frame = read_tif(tif_directory + '/2.tif')\n",
    "\n",
    "test_data = np.double(np.array(test_frame, dtype='d'))\n",
    "\n",
    "# integrated counts\n",
    "integ = sum(sum(test_data[:] - DF_mean))\n",
    "print(integ)"
   ]
  }
 ],
 "metadata": {
  "kernelspec": {
   "display_name": "Python 3.8.0 32-bit",
   "language": "python",
   "name": "python3"
  },
  "language_info": {
   "codemirror_mode": {
    "name": "ipython",
    "version": 3
   },
   "file_extension": ".py",
   "mimetype": "text/x-python",
   "name": "python",
   "nbconvert_exporter": "python",
   "pygments_lexer": "ipython3",
   "version": "3.8.0"
  },
  "orig_nbformat": 4,
  "vscode": {
   "interpreter": {
    "hash": "fcd987385026bfeb647cf03048d7e4e7c26aedf1ffa0cbda67c1fb64918b19d9"
   }
  }
 },
 "nbformat": 4,
 "nbformat_minor": 2
}
