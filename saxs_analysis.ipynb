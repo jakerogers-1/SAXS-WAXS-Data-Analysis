{
 "cells": [
  {
   "cell_type": "code",
   "execution_count": null,
   "metadata": {},
   "outputs": [],
   "source": [
    "## Importing all the important stuff\n",
    "from dat_to_tif import dat_to_tif\n",
    "import numpy as np\n",
    "import os\n",
    "from dat_from_file import dat_from_file\n",
    "from PIL import Image\n",
    "import numpy as np\n",
    "import matplotlib.pyplot as plt\n",
    "import matplotlib.image as mpimg\n",
    "import matplotlib\n",
    "from scipy.fft import fft, ifft, ifftshift, fftshift\n",
    "\n",
    "\n",
    "def read_tif(fname):\n",
    "    im = Image.open(fname)\n",
    "    print('IN: {} [Image size: {}, Image mode: {}]'.format(fname, im.size, im.mode))\n",
    "    return im\n"
   ]
  },
  {
   "cell_type": "code",
   "execution_count": null,
   "metadata": {},
   "outputs": [],
   "source": [
    "## Raw dat input directory\n",
    "# Change this depending on the run\n",
    "spool_directory = '/home/paul/Documents/SAXS-WAXS_test_data/raw/Nigel_Naked_Test2_Fine_run2/spool/SpoolDirectory'\n",
    "## Tif output directory\n",
    "# Change this depending on the run\n",
    "tif_directory = '/home/paul/Documents/SAXS-WAXS_test_data/fout'\n",
    "DFdir = '/home/paul/Documents/SAXS-WAXS_test_data/DF/'\n",
    "spool_dirs = 8 # input number of spool directories\n",
    "spool_dirs_i = [0, 1, 2, 3, 4, 5, 6, 7, 8] #  Need to automate this line\n",
    "print(spool_dirs_i)"
   ]
  },
  {
   "cell_type": "code",
   "execution_count": null,
   "metadata": {},
   "outputs": [],
   "source": [
    "## Loop to convert files to tif\n",
    "for dir_num in spool_dirs_i:\n",
    "    full_path = spool_directory + str(dir_num)\n",
    "    dat_from_file(full_path, tif_directory, dim=2048, tifsperdat=3, override=False)"
   ]
  },
  {
   "cell_type": "code",
   "execution_count": null,
   "metadata": {},
   "outputs": [],
   "source": [
    "## Log file manipulation\n",
    "logdir = \"./livelogfile.log\" #input location of log file\n",
    "biglog = open(logdir, 'r')\n",
    "contents = biglog.readlines()\n",
    "type(contents)\n",
    "num_lines = len(contents)\n",
    "print([\"Number of lines:\", str(num_lines)])\n",
    "rows = list(range(0, num_lines-1))\n",
    "\n",
    "I0_column = 20 #Change depending on the column that I0 is in\n",
    "I0 = list(range(0, num_lines-1)) # work out the length (height) of the I0 array\n",
    "for row in rows: #loops through rows to populate the I0 array with values from the logfile\n",
    "    row_n = contents[row] \n",
    "    # The lines down here isolate the values from the column.\n",
    "    split_lines = row_n.split(\" \")\n",
    "    I0_list = str(split_lines[20])\n",
    "    I0_str = (I0_list.split('\"'))\n",
    "    I0[row] = I0_str[1] #populates the I0 array with values from the log\n",
    "plt.plot(rows, I0)\n",
    "plt.show()"
   ]
  },
  {
   "cell_type": "code",
   "execution_count": null,
   "metadata": {},
   "outputs": [],
   "source": [
    "# Split the dark frames from the actualy data??\n",
    "\n",
    "## Set up a DF correction array to subract from the data below\n",
    "#for D in D_frames:\n",
    "#    read_tif()\n",
    "## For now (testing purposes) we can just make the dark field counts be 300\n",
    "DF_mean = 300"
   ]
  },
  {
   "cell_type": "code",
   "execution_count": null,
   "metadata": {},
   "outputs": [],
   "source": [
    "# The initial reconstruction should be done here. We need to pick a test tiff to decide the location of the region of interest for the phase spectrum.\n",
    "test_frame = read_tif(tif_directory + '/2.tif')\n",
    "\n",
    "test_data = np.double(np.array(test_frame, dtype='d'))\n",
    "\n",
    "# integrated counts\n",
    "integ = sum(sum(test_data[:] - DF_mean))\n",
    "print(integ)\n",
    "# DF Correction\n",
    "\n",
    "# index the middle line of the array for the 1-dimensional cross-section\n",
    "# one_d = data2[1024, :] # Line through x\n",
    "one_d = test_data[:, 1024] - DF_mean # Line through y\n",
    "plt.plot(one_d)\n",
    "#plt.savefig('./figures/1d_profile.png')\n",
    "plt.close()\n",
    "#plt.show()\n",
    "\n",
    "# ifft this middle line, angle for phase and abs(max(ifft))^2 for absorption\n",
    "recon = ifftshift(ifft(one_d))\n",
    "absorption = np.sqrt(abs(max(recon))*abs(max(recon)))\n",
    "print(absorption)\n",
    "phase = np.unwrap(np.angle(recon))\n",
    "\n",
    "plt.plot(abs(recon))\n",
    "#plt.savefig('./figures/1d_abs.png')\n",
    "#plt.show()\n",
    "plt.close()\n",
    "\n",
    "plt.plot(phase)\n",
    "#plt.savefig('./figures/1d_phase.png')\n",
    "#plt.show()\n",
    "plt.close()\n",
    "# Scan this through energy"
   ]
  },
  {
   "cell_type": "code",
   "execution_count": null,
   "metadata": {},
   "outputs": [],
   "source": [
    "DFs = [1, 254]\n",
    "F = 1\n",
    "print(DFdir + str(DFs[F]) + '.tif')\n",
    "test_frame = read_tif(tif_directory + '/2.tif')\n",
    "DF_tif = DFdir + str(DFs[F]) + '.tif'\n",
    "\n",
    "f_import = read_tif(DF_tif)"
   ]
  },
  {
   "cell_type": "code",
   "execution_count": null,
   "metadata": {},
   "outputs": [],
   "source": [
    "## Now we run these calculations per frame.\n",
    "\n",
    "#integ_F = []\n",
    "integ_F = np.zeros((1, (len(os.listdir(tif_directory)))+2), dtype=np.float64, order='C')\n",
    "#integ_F = list(range(1, (len(os.listdir(tif_directory)))+1))\n",
    "\n",
    "\n",
    "#recon_F = []\n",
    "#recon_F = list(range(1, (len(os.listdir(tif_directory)))+1))\n",
    "recon_F = np.zeros((1, (len(os.listdir(tif_directory)))+2), dtype=np.float64, order='C')\n",
    "print(recon_F.size)\n",
    "print(recon_F[0, 1])\n",
    "#phase_F = []\n",
    "#phase_F = list(range(1, len(os.listdir(tif_directory)))+1)\n",
    "phase_F = np.zeros((1, (len(os.listdir(tif_directory)))+2), dtype=np.float64, order='C')\n",
    "\n",
    "DFs = [1, 254] # Need some way to automate this\n",
    "i = 0\n",
    "for F in DFs:\n",
    "    DFname = DFdir + str(DFs[i]) + '.tif'\n",
    "    f_import = read_tif(DFname)\n",
    "    DF_data = np.double(np.array(f_import, dtype='d'))\n",
    "    DFs[i] = DF_data\n",
    "\n",
    "    i = i + 1\n",
    "DF_mean = np.divide(np.add(DFs[0], DFs[1]), 2)\n",
    "\n",
    "for (f_num, frame_name) in enumerate(sorted(os.listdir(tif_directory)), 1):\n",
    "    f_import = read_tif(tif_directory + '/' + frame_name)\n",
    "    frame_data = np.double(np.array(f_import, dtype='d'))\n",
    "    DF_corr = np.subtract(frame_data, DF_mean)\n",
    "    # Need to divide by I0\n",
    "    one_d = DF_corr[:, 1024] # Line through y\n",
    "    recon = ifftshift(ifft(one_d))\n",
    "\n",
    "    #integ_F[f_num] = \n",
    "    recon_F[0, f_num] = np.sqrt(abs(max(recon))*abs(max(recon)))\n",
    "    phase = np.unwrap(np.angle(recon))\n",
    "    phase_F[0, f_num] = phase[550]\n",
    "    #recon_F.append(np.sqrt(abs(max(recon))*abs(max(recon))))\n",
    "    #phase_F.append(np.unwrap(np.angle(recon)))\n",
    "\n",
    "plt.plot(recon_F)\n",
    "plt.show()\n",
    "\n",
    "plt.plot(phase_F)\n",
    "plt.show()\n"
   ]
  }
 ],
 "metadata": {
  "kernelspec": {
   "display_name": "Python 3.8.0 32-bit",
   "language": "python",
   "name": "python3"
  },
  "language_info": {
   "codemirror_mode": {
    "name": "ipython",
    "version": 3
   },
   "file_extension": ".py",
   "mimetype": "text/x-python",
   "name": "python",
   "nbconvert_exporter": "python",
   "pygments_lexer": "ipython3",
   "version": "3.8.0"
  },
  "orig_nbformat": 4,
  "vscode": {
   "interpreter": {
    "hash": "fcd987385026bfeb647cf03048d7e4e7c26aedf1ffa0cbda67c1fb64918b19d9"
   }
  }
 },
 "nbformat": 4,
 "nbformat_minor": 2
}
