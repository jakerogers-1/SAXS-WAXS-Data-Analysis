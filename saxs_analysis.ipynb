{
 "cells": [
  {
   "cell_type": "code",
   "execution_count": null,
   "metadata": {},
   "outputs": [],
   "source": [
    "## Importing all the important stuff\n",
    "from dat_to_tif import dat_to_tif\n",
    "import numpy as np\n",
    "import os\n",
    "from dat_from_file import dat_from_file\n",
    "from PIL import Image\n",
    "import matplotlib.pyplot as plt\n",
    "import matplotlib.image as mpimg\n",
    "import matplotlib\n",
    "from scipy.fft import fft, ifft, ifftshift, fftshift\n",
    "\n",
    "\n",
    "def read_tif(fname):\n",
    "    im = Image.open(fname)\n",
    "    print('IN: {} [Image size: {}, Image mode: {}]'.format(fname, im.size, im.mode))\n",
    "    return im"
   ]
  },
  {
   "cell_type": "code",
   "execution_count": null,
   "metadata": {},
   "outputs": [],
   "source": [
    "run_name = 'Cu_foil_fdbkOn_8950_9050_1_1s__3f_160922_1351' #Name of the run that we match the spool and logfile data\n",
    "SAXS_directory = 'Z:/Cycle_2022_3/Tran_18771a/' + run_name # Directory of our logfiles and our output data\n",
    "spool_directory = 'D:/' + run_name + '/spool/SpoolDirectory' #Spool input directory\n",
    "tif_directory = SAXS_directory + 'analysis/tifs/' #Tif output directory\n",
    "DFdir = SAXS_directory + 'analysis/DF/' #DF output directory\n",
    "logdir = SAXS_directory + '/images/livelogfile.log' #points to the logfile in the SAXS directory\n",
    "os.mkdir(DFdir)\n",
    "os.mkdir(tif_directory)"
   ]
  },
  {
   "cell_type": "code",
   "execution_count": null,
   "metadata": {},
   "outputs": [],
   "source": [
    "# Read in the spool information\n",
    "spool_dirs = 8 # input number of spool directories\n",
    "spool_dirs_i = [0, 1, 2, 3, 4, 5, 6, 7, 8] #  Need to automate this line\n",
    "print(spool_dirs_i)"
   ]
  },
  {
   "cell_type": "code",
   "execution_count": null,
   "metadata": {},
   "outputs": [],
   "source": [
    "## Loop to convert files to tif\n",
    "for dir_num in spool_dirs_i:\n",
    "    full_path = spool_directory + str(dir_num)\n",
    "    dat_from_file(full_path, tif_directory, dim=2048, tifsperdat=3, override=False)"
   ]
  },
  {
   "cell_type": "code",
   "execution_count": 21,
   "metadata": {},
   "outputs": [
    {
     "name": "stdout",
     "output_type": "stream",
     "text": [
      "['Number of lines:', '8268']\n",
      "\"Cu1_(-100_-50_2)_0_4s_16f_300422_1844_1_dark_-100\"\n"
     ]
    },
    {
     "ename": "TypeError",
     "evalue": "can only concatenate list (not \"int\") to list",
     "output_type": "error",
     "traceback": [
      "\u001b[1;31m---------------------------------------------------------------------------\u001b[0m",
      "\u001b[1;31mTypeError\u001b[0m                                 Traceback (most recent call last)",
      "Cell \u001b[1;32mIn [21], line 29\u001b[0m\n\u001b[0;32m     27\u001b[0m DFs \u001b[38;5;241m=\u001b[39m []\n\u001b[0;32m     28\u001b[0m i \u001b[38;5;241m=\u001b[39m \u001b[38;5;241m0\u001b[39m\n\u001b[1;32m---> 29\u001b[0m \u001b[38;5;28;01mfor\u001b[39;00m row \u001b[38;5;129;01min\u001b[39;00m \u001b[43mrows\u001b[49m\u001b[38;5;241;43m+\u001b[39;49m\u001b[38;5;241;43m1\u001b[39;49m:\n\u001b[0;32m     30\u001b[0m     row_n \u001b[38;5;241m=\u001b[39m contents[row]\n\u001b[0;32m     31\u001b[0m     split_lines \u001b[38;5;241m=\u001b[39m row_n\u001b[38;5;241m.\u001b[39msplit(\u001b[38;5;124m\"\u001b[39m\u001b[38;5;124m \u001b[39m\u001b[38;5;124m\"\u001b[39m) \u001b[38;5;66;03m# splits up the logfile line using spaces as a delimeter\u001b[39;00m\n",
      "\u001b[1;31mTypeError\u001b[0m: can only concatenate list (not \"int\") to list"
     ]
    }
   ],
   "source": [
    "## Log file manipulation\n",
    "logdir = \"./livelogfile.log\" #input location of log file\n",
    "biglog = open(logdir, 'r')\n",
    "contents = biglog.readlines()\n",
    "type(contents)\n",
    "num_lines = len(contents)\n",
    "print([\"Number of lines:\", str(num_lines)])\n",
    "rows = list(range(0, num_lines-1))\n",
    "I0_column = 20 #Change depending on the column that I0 is in\n",
    "I0 = list(range(0, num_lines-1)) # work out the length (height) of the I0 array\n",
    "for row in rows: #loops through rows to populate the I0 array with values from the logfile\n",
    "    row_n = contents[row] \n",
    "    # The lines down here isolate the values from the column.\n",
    "    split_lines = row_n.split(\" \") # splits up the logfile line using spaces as a delimeter\n",
    "    I0_list = str(split_lines[20])\n",
    "    I0_str = (I0_list.split('\"'))\n",
    "    I0[row] = I0_str[1] #populates the I0 array with values from the log\n",
    "#plt.plot(rows, I0)\n",
    "\n",
    "\n",
    "\n",
    "split_header = contents[0].split(\" \")\n",
    "idx = split_header.index('chanh_filename')\n",
    "print(split_header[idx+2])\n",
    "\n",
    "# Worst way to find DFs but i'm using it for now\n",
    "DFs = []\n",
    "i = 0\n",
    "for row in rows:\n",
    "    row_n = contents[row]\n",
    "    split_lines = row_n.split(\" \") # splits up the logfile line using spaces as a delimeter\n",
    "    fname = str(split_lines[idx+2])\n",
    "    if 'dark' in fname:\n",
    "        DFs.append(row)\n",
    "        i = i + 1\n",
    "print('Dark Field Images at:' + str(DFs))\n",
    "print('Confirm this by checking frames in the tif directory please....')\n",
    "#fname_column = list(find_all(split_header, 'chanh_filename'))\n"
   ]
  },
  {
   "cell_type": "code",
   "execution_count": null,
   "metadata": {},
   "outputs": [],
   "source": [
    "# Split the dark frames from the actualy data??\n",
    "\n",
    "## Set up a DF correction array to subract from the data below\n",
    "D_frames = [1, num_lines] #uses the number of lines in the logfile to locate the positions of the darkfield \n",
    "D = 0\n",
    "DFs = np.zeros(len(D_frames), 2048, 2048, dtype=np.double)\n",
    "for D in D_frames:\n",
    "    DF_raw = read_tif(DFdir + '/' + str(D))\n",
    "    DFs[D, :, :]\n",
    "    D = D + 1\n",
    "## For now (testing purposes) we can just make the dark field counts be 300\n",
    "DF_mean = np.mean(DFs, 1)\n"
   ]
  },
  {
   "cell_type": "code",
   "execution_count": null,
   "metadata": {},
   "outputs": [],
   "source": [
    "# The initial reconstruction should be done here. We need to pick a test tiff to decide the location of the region of interest for the phase spectrum.\n",
    "test_frame = read_tif(tif_directory + '/2.tif')\n",
    "\n",
    "test_data = np.double(np.array(test_frame, dtype='d'))\n",
    "\n",
    "# integrated counts\n",
    "integ = sum(sum(test_data[:] - DF_mean))\n",
    "print(integ)\n",
    "# DF Correction\n",
    "\n",
    "# index the middle line of the array for the 1-dimensional cross-section\n",
    "# one_d = data2[1024, :] # Line through x\n",
    "one_d = np.sum((test_data - DF_mean), 1) # Line through y\n",
    "plt.plot(one_d)\n",
    "plt.savefig('./figures/1d_profile.png')\n",
    "#plt.close()\n",
    "#plt.show()\n",
    "\n",
    "# ifft this middle line, angle for phase and abs(max(ifft))^2 for absorption\n",
    "recon = ifftshift(ifft(one_d))\n",
    "absorption = np.sqrt(abs(max(recon))*abs(max(recon)))\n",
    "print(absorption)\n",
    "phase = np.unwrap(np.angle(recon))\n",
    "\n",
    "plt.plot(abs(recon))\n",
    "plt.savefig('./figures/1d_abs.png')\n",
    "#plt.show()\n",
    "#plt.close()\n",
    "\n",
    "plt.plot(phase)\n",
    "plt.savefig('./figures/1d_phase.png')\n",
    "#plt.show()\n",
    "#plt.close()\n",
    "# Scan this through energy"
   ]
  },
  {
   "cell_type": "code",
   "execution_count": null,
   "metadata": {},
   "outputs": [],
   "source": [
    "DFs = [1, 254]\n",
    "F = 1\n",
    "print(DFdir + str(DFs[F]) + '.tif')\n",
    "test_frame = read_tif(tif_directory + '/2.tif')\n",
    "DF_tif = DFdir + str(DFs[F]) + '.tif'\n",
    "\n",
    "f_import = read_tif(DF_tif)"
   ]
  },
  {
   "cell_type": "code",
   "execution_count": null,
   "metadata": {},
   "outputs": [],
   "source": [
    "## Now we run these calculations per frame.\n",
    "\n",
    "#integ_F = []\n",
    "integ_F = np.zeros((1, (len(os.listdir(tif_directory)))+2), dtype=np.float64, order='C')\n",
    "#integ_F = list(range(1, (len(os.listdir(tif_directory)))+1))\n",
    "\n",
    "\n",
    "#recon_F = []\n",
    "#recon_F = list(range(1, (len(os.listdir(tif_directory)))+1))\n",
    "recon_F = np.zeros((1, (len(os.listdir(tif_directory)))+2), dtype=np.float64, order='C')\n",
    "print(recon_F.size)\n",
    "print(recon_F[0, 1])\n",
    "#phase_F = []\n",
    "#phase_F = list(range(1, len(os.listdir(tif_directory)))+1)\n",
    "phase_F = np.zeros((1, (len(os.listdir(tif_directory)))+2), dtype=np.float64, order='C')\n",
    "\n",
    "DFs = [1, 254] # Need some way to automate this\n",
    "i = 0\n",
    "for F in DFs:\n",
    "    DFname = DFdir + str(DFs[i]) + '.tif'\n",
    "    f_import = read_tif(DFname)\n",
    "    DF_data = np.double(np.array(f_import, dtype='d'))\n",
    "    DFs[i] = DF_data\n",
    "\n",
    "    i = i + 1\n",
    "DF_mean = np.divide(np.add(DFs[0], DFs[1]), 2)\n",
    "\n",
    "for (f_num, frame_name) in enumerate(sorted(os.listdir(tif_directory)), 1):\n",
    "    f_import = read_tif(tif_directory + '/' + frame_name)\n",
    "    frame_data = np.double(np.array(f_import, dtype='d'))\n",
    "    DF_corr = np.subtract(frame_data, DF_mean)\n",
    "    # Need to divide by I0\n",
    "    one_d = DF_corr[:, 1024] # Line through y\n",
    "    recon = ifftshift(ifft(one_d))\n",
    "\n",
    "    #integ_F[f_num] = \n",
    "    recon_F[0, f_num] = np.sqrt(abs(max(recon))*abs(max(recon)))\n",
    "    phase = np.unwrap(np.angle(recon))\n",
    "    phase_F[0, f_num] = phase[550]\n",
    "    #recon_F.append(np.sqrt(abs(max(recon))*abs(max(recon))))\n",
    "    #phase_F.append(np.unwrap(np.angle(recon)))\n",
    "\n",
    "plt.plot(recon_F[0, :])\n",
    "plt.show()\n",
    "\n",
    "plt.plot(phase_F[0, :])\n",
    "plt.show()\n"
   ]
  }
 ],
 "metadata": {
  "kernelspec": {
   "display_name": "Python 3.9.13 64-bit (microsoft store)",
   "language": "python",
   "name": "python3"
  },
  "language_info": {
   "codemirror_mode": {
    "name": "ipython",
    "version": 3
   },
   "file_extension": ".py",
   "mimetype": "text/x-python",
   "name": "python",
   "nbconvert_exporter": "python",
   "pygments_lexer": "ipython3",
   "version": "3.9.13"
  },
  "orig_nbformat": 4,
  "vscode": {
   "interpreter": {
    "hash": "213bd341ecbd9fb9bc8368631312ef8a9117fa0d5acfd9e0bd46f94ff04b2c8a"
   }
  }
 },
 "nbformat": 4,
 "nbformat_minor": 2
}
