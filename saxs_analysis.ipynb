{
 "cells": [
  {
   "cell_type": "code",
   "execution_count": 1,
   "metadata": {},
   "outputs": [],
   "source": [
    "## Importing all the important stuff\n",
    "from dat_to_tif import dat_to_tif\n",
    "import numpy as np\n",
    "import os\n",
    "from dat_from_file import dat_from_file\n",
    "from PIL import Image\n",
    "import numpy as np\n",
    "import matplotlib.pyplot as plt\n",
    "import matplotlib.image as mpimg\n",
    "import matplotlib\n",
    "from scipy.fft import fft, ifft, ifftshift, fftshift\n",
    "\n",
    "\n",
    "def read_tif(fname):\n",
    "    im = Image.open(fname)\n",
    "    print('IN: {} [Image size: {}, Image mode: {}]'.format(fname, im.size, im.mode))\n",
    "    return im\n"
   ]
  },
  {
   "cell_type": "code",
   "execution_count": 2,
   "metadata": {},
   "outputs": [
    {
     "name": "stdout",
     "output_type": "stream",
     "text": [
      "[]\n"
     ]
    }
   ],
   "source": [
    "## Raw dat input directory\n",
    "# Change this depending on the run\n",
    "spool_directory = '/home/paul/Documents/SAXS-WAXS_test_data/raw/Nigel_Naked_Test2_Fine_run2/spool/SpoolDirectory'\n",
    "## Tif output directory\n",
    "# Change this depending on the run\n",
    "tif_directory = '/home/paul/Documents/SAXS-WAXS_test_data/fout'\n",
    "spool_dirs = 8 # input number of spool directories\n",
    "spool_dirs_i = [0, 1, 2, 3, 4, 5, 6, 7, 8] #  Need to automate this line\n",
    "print(spool_dirs_i)"
   ]
  },
  {
   "cell_type": "code",
   "execution_count": null,
   "metadata": {},
   "outputs": [],
   "source": [
    "## Loop to convert files to tif\n",
    "for dir_num in spool_dirs_i:\n",
    "    full_path = spool_directory + str(dir_num)\n",
    "    dat_from_file(full_path, tif_directory, dim=2048, tifsperdat=3, override=False)"
   ]
  },
  {
   "cell_type": "code",
   "execution_count": null,
   "metadata": {},
   "outputs": [],
   "source": [
    "## Log file manipulation\n",
    "logdir = \"\" #input location of log file\n",
    "biglog = open(logdir, 'r')\n",
    "contents = biglog.readlines\n",
    "num_lines = len(contents)\n",
    "print([\"Number of lines:\", str(num_lines)])\n",
    "rows = list(range(0, num_lines-1))\n",
    "\n",
    "I0_column = 20 #Change depending on the column that I0 is in\n",
    "I0 = list(range(0, num_lines-1)) # work out the length (height) of the I0 array\n",
    "for row in rows: #loops through rows to populate the I0 array with values from the logfile\n",
    "    row_n = contents[row] \n",
    "    # The lines down here isolate the values from the column.\n",
    "    split_lines = row_n.split(\" \")\n",
    "    I0_list = str(split_lines[20])\n",
    "    I0_str = (I0_list.split('\"'))\n",
    "    I0[row] = I0_str[1] #populates the I0 array with values from the log\n",
    "plt.plot(rows, I0)\n",
    "plt.show()"
   ]
  },
  {
   "cell_type": "code",
   "execution_count": null,
   "metadata": {},
   "outputs": [],
   "source": [
    "# Split the dark frames from the actualy data??\n",
    "\n",
    "## Set up a DF correction array to subract from the data below\n",
    "for D in D_frames:\n",
    "    read_tif()\n",
    "# For now (testing purposes) we can just make the dark field counts be 300\n",
    "DF_mean = 300"
   ]
  },
  {
   "cell_type": "code",
   "execution_count": null,
   "metadata": {},
   "outputs": [],
   "source": [
    "# The initial reconstruction should be done here. We need to pick a test tiff to decide the location of the region of interest for the phase spectrum.\n",
    "test_frame = read_tif(tif_directory + '/2.tif')\n",
    "\n",
    "test_data = np.double(np.array(test_frame, dtype='d'))\n"
   ]
  }
 ],
 "metadata": {
  "kernelspec": {
   "display_name": "Python 3.8.0 32-bit",
   "language": "python",
   "name": "python3"
  },
  "language_info": {
   "codemirror_mode": {
    "name": "ipython",
    "version": 3
   },
   "file_extension": ".py",
   "mimetype": "text/x-python",
   "name": "python",
   "nbconvert_exporter": "python",
   "pygments_lexer": "ipython3",
   "version": "3.8.0"
  },
  "orig_nbformat": 4,
  "vscode": {
   "interpreter": {
    "hash": "fcd987385026bfeb647cf03048d7e4e7c26aedf1ffa0cbda67c1fb64918b19d9"
   }
  }
 },
 "nbformat": 4,
 "nbformat_minor": 2
}
